{
 "cells": [
  {
   "cell_type": "code",
   "execution_count": null,
   "metadata": {},
   "outputs": [],
   "source": [
    "import matplotlib.pyplot as plt\n",
    "plt.rcParams['figure.figsize'] = [15, 5]"
   ]
  },
  {
   "cell_type": "code",
   "execution_count": null,
   "metadata": {},
   "outputs": [],
   "source": [
    "! rm -rf COVID-19 && git clone https://github.com/pcm-dpc/COVID-19"
   ]
  },
  {
   "cell_type": "code",
   "execution_count": null,
   "metadata": {},
   "outputs": [],
   "source": [
    "import os\n",
    "import pandas as pd"
   ]
  },
  {
   "cell_type": "code",
   "execution_count": null,
   "metadata": {},
   "outputs": [],
   "source": [
    "original_df = pd.read_csv(os.path.join(\"COVID-19\", \"dati-province\", \"dpc-covid19-ita-province.csv\"))"
   ]
  },
  {
   "cell_type": "code",
   "execution_count": null,
   "metadata": {},
   "outputs": [],
   "source": [
    "original_df['data'] = pd.to_datetime(original_df['data'])\n",
    "df = original_df[['data', 'codice_provincia', 'totale_casi', 'sigla_provincia']]\n",
    "df = df.dropna()\n",
    "df = df.loc[df['sigla_provincia'].isin(['BA', 'LE', 'TA', 'BT', 'FG'])]"
   ]
  },
  {
   "cell_type": "code",
   "execution_count": null,
   "metadata": {},
   "outputs": [],
   "source": [
    "df = df.pivot(index=\"data\", columns=\"sigla_provincia\", values=\"totale_casi\")\n",
    "\n",
    "# Sampling original data\n",
    "df = df.iloc[::10, :]\n",
    "selected_dates = df.index"
   ]
  },
  {
   "cell_type": "code",
   "execution_count": null,
   "metadata": {},
   "outputs": [],
   "source": [
    "plot = df.plot(linewidth=2.0, grid=True, title=\"Casi di COVID 19 in Puglia\", xticks=df.index)\n",
    "plot.set_xlabel(\"Data\")\n",
    "plot.set_ylabel(\"Casi\")\n",
    "\n",
    "fig = plot.get_figure()\n",
    "fig.savefig(\"covid-cases-puglia.png\")"
   ]
  },
  {
   "cell_type": "code",
   "execution_count": null,
   "metadata": {},
   "outputs": [],
   "source": [
    "plot = df.diff().plot(linewidth=2.0, grid=True, title=\"Aumento Casi di COVID 19 in Puglia\", xticks=df.index)\n",
    "plot.set_xlabel(\"Data\")\n",
    "plot.set_ylabel(\"Crescita\")\n",
    "fig = plot.get_figure()\n",
    "fig.savefig(\"covid-diff-cases-puglia.png\")"
   ]
  },
  {
   "cell_type": "code",
   "execution_count": null,
   "metadata": {},
   "outputs": [],
   "source": [
    "original_df = pd.read_csv(os.path.join(\"COVID-19\", \"dati-province\", \"dpc-covid19-ita-province.csv\"))\n",
    "df = original_df[['data', 'denominazione_regione', 'totale_casi']]\n",
    "df = df.groupby(['data', 'denominazione_regione']).sum().reset_index()\n",
    "df = df.pivot(index=\"data\", columns=\"denominazione_regione\", values=\"totale_casi\")\n",
    "plot = df.plot(linewidth=2.0, grid=True, title=\"Casi di COVID 19 in Italia per regione\")\n",
    "plot.set_xlabel(\"Data\")\n",
    "plot.set_ylabel(\"Casi\")\n",
    "plot.legend(bbox_to_anchor=(1, 1))\n",
    "\n",
    "fig = plot.get_figure()\n",
    "fig.savefig(\"covid-cases-italia.png\")"
   ]
  },
  {
   "cell_type": "code",
   "execution_count": null,
   "metadata": {},
   "outputs": [],
   "source": [
    "plot = df.diff().plot(linewidth=2.0, grid=True, title=\"Aumento casi di COVID 19 in Italia per regione\")\n",
    "plot.set_xlabel(\"Data\")\n",
    "plot.set_ylabel(\"Casi\")\n",
    "plot.legend(bbox_to_anchor=(1, 1))\n",
    "\n",
    "fig = plot.get_figure()\n",
    "fig.savefig(\"covid-cases-diff-italia.png\")"
   ]
  },
  {
   "cell_type": "code",
   "execution_count": null,
   "metadata": {},
   "outputs": [],
   "source": [
    "import folium \n",
    "def generateBaseMap(default_location=[41.89193, 12.51133], default_zoom_start=5):\n",
    "    base_map = folium.Map(location=default_location, control_scale=True, zoom_start=default_zoom_start)\n",
    "    return base_map\n",
    "\n",
    "base_map = generateBaseMap()\n"
   ]
  },
  {
   "cell_type": "code",
   "execution_count": null,
   "metadata": {},
   "outputs": [],
   "source": [
    "\n",
    "\n",
    "from folium.plugins import HeatMap\n",
    "import folium.plugins as plugins\n",
    "import random\n",
    "\n",
    "original_df['data'] = pd.to_datetime(original_df['data'])\n",
    "\n",
    "\n",
    "lat_long_df = original_df[['totale_casi', 'lat', 'long', 'data', 'sigla_provincia']]\n",
    "lat_long_df = lat_long_df.dropna()\n",
    "\n",
    "lat_long_df = lat_long_df.loc[lat_long_df['data'].isin(selected_dates)]\n",
    "lat_long_df['weight'] = (lat_long_df['totale_casi'] - lat_long_df['totale_casi'].min()) / (lat_long_df['totale_casi'].max() - lat_long_df['totale_casi'].min())\n",
    "lat_long_df['hm_data'] = lat_long_df.apply(lambda row: [row['lat'], row['long'], row['weight']],axis=1)\n",
    "lat_long_df['weight'] = (lat_long_df['totale_casi'] / lat_long_df['totale_casi'].sum())*1000\n",
    "\n",
    "lat_long_df['data'] = lat_long_df['data'].map(lambda item: pd.to_datetime(str(item)).strftime('%Y-%m-%d'))\n",
    "\n",
    "parsed_data_datasource = []\n",
    "for row in lat_long_df.iterrows():\n",
    "    parsed_data_datasource.append([\n",
    "        row[1]['lat']*random.uniform(1,1.001), \n",
    "        row[1]['long']*random.uniform(1,1.001), \n",
    "        row[1]['weight'], \n",
    "        row[1]['data']\n",
    "    ])\n",
    "\n",
    "data = []\n",
    "time_indexes = []\n",
    "for k, v in pd.DataFrame.from_records(parsed_data_datasource, columns=['lat', 'lon', 'weight', 'data']).groupby('data'):\n",
    "    res = v[['lat', 'lon', 'weight']]\n",
    "    data.append(res.values.tolist())\n",
    "    time_indexes.append(pd.to_datetime(str(k)).strftime('%Y-%m-%d'))\n",
    "\n",
    "\n",
    "m = folium.Map([48.0, 5.0], tiles=\"stamentoner\", zoom_start=6)\n",
    "\n",
    "hm = plugins.HeatMapWithTime(data, index=time_indexes)\n",
    "\n",
    "hm.add_to(m)\n",
    "\n",
    "len(data[0])\n",
    "m"
   ]
  },
  {
   "cell_type": "code",
   "execution_count": null,
   "metadata": {},
   "outputs": [],
   "source": [
    "an = pd.read_csv('COVID-19/dati-andamento-nazionale/dpc-covid19-ita-andamento-nazionale.csv')\n",
    "\n",
    "an\n",
    "an['tamponi/totale_casi'] = an['tamponi']/an['totale_casi']\n",
    "an['ricoverati_con_sintomi/terapia_intensiva'] = an['terapia_intensiva']/an['ricoverati_con_sintomi'] * 100"
   ]
  },
  {
   "cell_type": "code",
   "execution_count": null,
   "metadata": {},
   "outputs": [],
   "source": [
    "an['data'] = pd.to_datetime(an['data'])\n",
    "an = an[['data', 'tamponi/totale_casi']]\n",
    "an.set_index('data', inplace=True)\n",
    "\n",
    "plot = an.plot(linewidth=2.0, grid=True, title=\"Numero tamponi vs totale infetti\")\n",
    "plot.set_xlabel(\"Data\")\n",
    "plot.set_ylabel(\"Tamponi/totale infetti (isolati o ospedalizzati)\")\n",
    "plot.legend(bbox_to_anchor=(1, 1))\n",
    "\n",
    "fig = plot.get_figure()\n",
    "fig.savefig(\"testsVsInfected-italia.png\")"
   ]
  },
  {
   "cell_type": "code",
   "execution_count": null,
   "metadata": {},
   "outputs": [],
   "source": [
    "an = pd.read_csv('COVID-19/dati-andamento-nazionale/dpc-covid19-ita-andamento-nazionale.csv')\n",
    "an['tamponi/totale_casi'] = an['tamponi']/an['totale_casi']\n",
    "an['ricoverati_con_sintomi/terapia_intensiva'] = an['terapia_intensiva']/an['ricoverati_con_sintomi'] * 100\n",
    "an['data'] = pd.to_datetime(an['data'])\n",
    "an = an[['data', 'ricoverati_con_sintomi/terapia_intensiva']]\n",
    "an.set_index('data', inplace=True)\n",
    "\n",
    "plot = an.plot(linewidth=2.0, grid=True, title=\"Percentuale Terapia Intensiva\")\n",
    "plot.set_xlabel(\"Data\")\n",
    "plot.set_ylabel(\"Percentuale di persone in Terapia intensiva vs ricoverati\")\n",
    "plot.legend(bbox_to_anchor=(1, 1))\n",
    "\n",
    "fig = plot.get_figure()\n",
    "fig.savefig(\"TI_hospitalized-italia.png\")"
   ]
  }
 ],
 "metadata": {
  "kernelspec": {
   "display_name": "Python 3",
   "language": "python",
   "name": "python3"
  },
  "language_info": {
   "codemirror_mode": {
    "name": "ipython",
    "version": 3
   },
   "file_extension": ".py",
   "mimetype": "text/x-python",
   "name": "python",
   "nbconvert_exporter": "python",
   "pygments_lexer": "ipython3",
   "version": "3.8.3"
  }
 },
 "nbformat": 4,
 "nbformat_minor": 4
}
